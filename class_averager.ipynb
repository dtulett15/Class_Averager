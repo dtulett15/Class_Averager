{
 "cells": [
  {
   "cell_type": "code",
   "execution_count": 4,
   "metadata": {},
   "outputs": [
    {
     "name": "stdout",
     "output_type": "stream",
     "text": [
      "Enter grade. Input '-1' to end: 90\n",
      "Enter grade. Input '-1' to end: 84\n",
      "Enter grade. Input '-1' to end: 67\n",
      "Enter grade. Input '-1' to end: 87\n",
      "Enter grade. Input '-1' to end: -1\n",
      "The class average of 82.0 is a B\n"
     ]
    }
   ],
   "source": [
    "#initialize total and grade counter to zero\n",
    "total = 0\n",
    "grade_counter = 0\n",
    "\n",
    "#input the first grade (possibly the sentinel)\n",
    "grade = float(input(\"Enter grade. Input '-1' to end: \"))\n",
    "\n",
    "#while user has not entered senitnel; add grade to running total, \n",
    "#add 1 to grade counter, input next grade (\"set to grade\")\n",
    "\n",
    "while grade != -1:\n",
    "    total += grade\n",
    "    grade_counter += 1\n",
    "    grade = float(input(\"Enter grade. Input '-1' to end: \"))\n",
    "\n",
    "#if counter does not equal zero, set average to total/counter, display average (else warning)\n",
    "\n",
    "if grade_counter != 0:\n",
    "    average = total / grade_counter\n",
    "\n",
    "#print letter and number grade\n",
    "if grade_counter != 0 and average >= 90:\n",
    "    print(f\"The class average of {average:.1f} is an A\")\n",
    "elif grade_counter != 0 and average >= 80:\n",
    "    print(f\"The class average of {average:.1f} is a B\")\n",
    "elif grade_counter != 0 and average >= 70:\n",
    "    print(f\"The class average of {average:.1f} is a C\")\n",
    "elif grade_counter != 0 and average >= 60:\n",
    "    print(f\"The class average of {average:.1f} is a D\")\n",
    "elif grade_counter != 0 and average >= 0:\n",
    "    print(f\"The class average of {average:.1f} is a Fail\")\n",
    "else:\n",
    "    print(\"No grades were entered\")\n",
    "    "
   ]
  },
  {
   "cell_type": "code",
   "execution_count": null,
   "metadata": {},
   "outputs": [],
   "source": []
  }
 ],
 "metadata": {
  "kernelspec": {
   "display_name": "Python 3",
   "language": "python",
   "name": "python3"
  },
  "language_info": {
   "codemirror_mode": {
    "name": "ipython",
    "version": 3
   },
   "file_extension": ".py",
   "mimetype": "text/x-python",
   "name": "python",
   "nbconvert_exporter": "python",
   "pygments_lexer": "ipython3",
   "version": "3.8.3"
  }
 },
 "nbformat": 4,
 "nbformat_minor": 4
}
